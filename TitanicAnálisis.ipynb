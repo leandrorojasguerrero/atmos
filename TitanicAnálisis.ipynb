{
  "nbformat": 4,
  "nbformat_minor": 0,
  "metadata": {
    "colab": {
      "name": "TitanicAnálisis.ipynb",
      "provenance": [],
      "authorship_tag": "ABX9TyOfNjyhS9vB3tOxxjKDvW7k",
      "include_colab_link": true
    },
    "kernelspec": {
      "name": "python3",
      "display_name": "Python 3"
    }
  },
  "cells": [
    {
      "cell_type": "markdown",
      "metadata": {
        "id": "view-in-github",
        "colab_type": "text"
      },
      "source": [
        "<a href=\"https://colab.research.google.com/github/leandrorojasguerrero/atmos/blob/master/TitanicAn%C3%A1lisis.ipynb\" target=\"_parent\"><img src=\"https://colab.research.google.com/assets/colab-badge.svg\" alt=\"Open In Colab\"/></a>"
      ]
    },
    {
      "cell_type": "code",
      "metadata": {
        "id": "oFRDI9oOvQ6-"
      },
      "source": [
        "#Sólo mostrar errores del notebook \n",
        "import warnings  \n",
        "warnings.filterwarnings('ignore')\n"
      ],
      "execution_count": null,
      "outputs": []
    },
    {
      "cell_type": "code",
      "metadata": {
        "id": "lMkAtZlywQUn"
      },
      "source": [
        "import pandas as pd    #lectura y tratamiento de datos\n",
        "import numpy as np      #trabajar con valores numéricos\n",
        "import seaborn as sns   #trabajar con gráficos\n",
        "import matplotlib.pyplot as plt  #Gráficos\n",
        "%matplotlib inline\n"
      ],
      "execution_count": null,
      "outputs": []
    },
    {
      "cell_type": "code",
      "metadata": {
        "colab": {
          "base_uri": "https://localhost:8080/",
          "height": 461
        },
        "id": "UEd-LMBScEmH",
        "outputId": "1d2b1c51-812f-4995-aec9-75ac228d51d9"
      },
      "source": [
        "#Lectura del archivo csv\n",
        "all_data = pd.read_csv('titanic_dataset.csv')\n",
        "dataset = all_data.copy() #backup del dataset\n",
        "dataset.head(10) #muestra las primeras 5 lineas del dataset\n"
      ],
      "execution_count": null,
      "outputs": [
        {
          "output_type": "execute_result",
          "data": {
            "text/html": [
              "<div>\n",
              "<style scoped>\n",
              "    .dataframe tbody tr th:only-of-type {\n",
              "        vertical-align: middle;\n",
              "    }\n",
              "\n",
              "    .dataframe tbody tr th {\n",
              "        vertical-align: top;\n",
              "    }\n",
              "\n",
              "    .dataframe thead th {\n",
              "        text-align: right;\n",
              "    }\n",
              "</style>\n",
              "<table border=\"1\" class=\"dataframe\">\n",
              "  <thead>\n",
              "    <tr style=\"text-align: right;\">\n",
              "      <th></th>\n",
              "      <th>PassengerId</th>\n",
              "      <th>Survived</th>\n",
              "      <th>Pclass</th>\n",
              "      <th>Name</th>\n",
              "      <th>Sex</th>\n",
              "      <th>Age</th>\n",
              "      <th>SibSp</th>\n",
              "      <th>Parch</th>\n",
              "      <th>Ticket</th>\n",
              "      <th>Fare</th>\n",
              "      <th>Cabin</th>\n",
              "      <th>Embarked</th>\n",
              "    </tr>\n",
              "  </thead>\n",
              "  <tbody>\n",
              "    <tr>\n",
              "      <th>0</th>\n",
              "      <td>1</td>\n",
              "      <td>0</td>\n",
              "      <td>3</td>\n",
              "      <td>Braund, Mr. Owen Harris</td>\n",
              "      <td>male</td>\n",
              "      <td>22.0</td>\n",
              "      <td>1</td>\n",
              "      <td>0</td>\n",
              "      <td>A/5 21171</td>\n",
              "      <td>7.2500</td>\n",
              "      <td>NaN</td>\n",
              "      <td>S</td>\n",
              "    </tr>\n",
              "    <tr>\n",
              "      <th>1</th>\n",
              "      <td>2</td>\n",
              "      <td>1</td>\n",
              "      <td>1</td>\n",
              "      <td>Cumings, Mrs. John Bradley (Florence Briggs Th...</td>\n",
              "      <td>female</td>\n",
              "      <td>38.0</td>\n",
              "      <td>1</td>\n",
              "      <td>0</td>\n",
              "      <td>PC 17599</td>\n",
              "      <td>71.2833</td>\n",
              "      <td>C85</td>\n",
              "      <td>C</td>\n",
              "    </tr>\n",
              "    <tr>\n",
              "      <th>2</th>\n",
              "      <td>3</td>\n",
              "      <td>1</td>\n",
              "      <td>3</td>\n",
              "      <td>Heikkinen, Miss. Laina</td>\n",
              "      <td>female</td>\n",
              "      <td>26.0</td>\n",
              "      <td>0</td>\n",
              "      <td>0</td>\n",
              "      <td>STON/O2. 3101282</td>\n",
              "      <td>7.9250</td>\n",
              "      <td>NaN</td>\n",
              "      <td>S</td>\n",
              "    </tr>\n",
              "    <tr>\n",
              "      <th>3</th>\n",
              "      <td>4</td>\n",
              "      <td>1</td>\n",
              "      <td>1</td>\n",
              "      <td>Futrelle, Mrs. Jacques Heath (Lily May Peel)</td>\n",
              "      <td>female</td>\n",
              "      <td>35.0</td>\n",
              "      <td>1</td>\n",
              "      <td>0</td>\n",
              "      <td>113803</td>\n",
              "      <td>53.1000</td>\n",
              "      <td>C123</td>\n",
              "      <td>S</td>\n",
              "    </tr>\n",
              "    <tr>\n",
              "      <th>4</th>\n",
              "      <td>5</td>\n",
              "      <td>0</td>\n",
              "      <td>3</td>\n",
              "      <td>Allen, Mr. William Henry</td>\n",
              "      <td>male</td>\n",
              "      <td>35.0</td>\n",
              "      <td>0</td>\n",
              "      <td>0</td>\n",
              "      <td>373450</td>\n",
              "      <td>8.0500</td>\n",
              "      <td>NaN</td>\n",
              "      <td>S</td>\n",
              "    </tr>\n",
              "    <tr>\n",
              "      <th>5</th>\n",
              "      <td>6</td>\n",
              "      <td>0</td>\n",
              "      <td>3</td>\n",
              "      <td>Moran, Mr. James</td>\n",
              "      <td>male</td>\n",
              "      <td>NaN</td>\n",
              "      <td>0</td>\n",
              "      <td>0</td>\n",
              "      <td>330877</td>\n",
              "      <td>8.4583</td>\n",
              "      <td>NaN</td>\n",
              "      <td>Q</td>\n",
              "    </tr>\n",
              "    <tr>\n",
              "      <th>6</th>\n",
              "      <td>7</td>\n",
              "      <td>0</td>\n",
              "      <td>1</td>\n",
              "      <td>McCarthy, Mr. Timothy J</td>\n",
              "      <td>male</td>\n",
              "      <td>54.0</td>\n",
              "      <td>0</td>\n",
              "      <td>0</td>\n",
              "      <td>17463</td>\n",
              "      <td>51.8625</td>\n",
              "      <td>E46</td>\n",
              "      <td>S</td>\n",
              "    </tr>\n",
              "    <tr>\n",
              "      <th>7</th>\n",
              "      <td>8</td>\n",
              "      <td>0</td>\n",
              "      <td>3</td>\n",
              "      <td>Palsson, Master. Gosta Leonard</td>\n",
              "      <td>male</td>\n",
              "      <td>2.0</td>\n",
              "      <td>3</td>\n",
              "      <td>1</td>\n",
              "      <td>349909</td>\n",
              "      <td>21.0750</td>\n",
              "      <td>NaN</td>\n",
              "      <td>S</td>\n",
              "    </tr>\n",
              "    <tr>\n",
              "      <th>8</th>\n",
              "      <td>9</td>\n",
              "      <td>1</td>\n",
              "      <td>3</td>\n",
              "      <td>Johnson, Mrs. Oscar W (Elisabeth Vilhelmina Berg)</td>\n",
              "      <td>female</td>\n",
              "      <td>27.0</td>\n",
              "      <td>0</td>\n",
              "      <td>2</td>\n",
              "      <td>347742</td>\n",
              "      <td>11.1333</td>\n",
              "      <td>NaN</td>\n",
              "      <td>S</td>\n",
              "    </tr>\n",
              "    <tr>\n",
              "      <th>9</th>\n",
              "      <td>10</td>\n",
              "      <td>1</td>\n",
              "      <td>2</td>\n",
              "      <td>Nasser, Mrs. Nicholas (Adele Achem)</td>\n",
              "      <td>female</td>\n",
              "      <td>14.0</td>\n",
              "      <td>1</td>\n",
              "      <td>0</td>\n",
              "      <td>237736</td>\n",
              "      <td>30.0708</td>\n",
              "      <td>NaN</td>\n",
              "      <td>C</td>\n",
              "    </tr>\n",
              "  </tbody>\n",
              "</table>\n",
              "</div>"
            ],
            "text/plain": [
              "   PassengerId  Survived  Pclass  ...     Fare Cabin  Embarked\n",
              "0            1         0       3  ...   7.2500   NaN         S\n",
              "1            2         1       1  ...  71.2833   C85         C\n",
              "2            3         1       3  ...   7.9250   NaN         S\n",
              "3            4         1       1  ...  53.1000  C123         S\n",
              "4            5         0       3  ...   8.0500   NaN         S\n",
              "5            6         0       3  ...   8.4583   NaN         Q\n",
              "6            7         0       1  ...  51.8625   E46         S\n",
              "7            8         0       3  ...  21.0750   NaN         S\n",
              "8            9         1       3  ...  11.1333   NaN         S\n",
              "9           10         1       2  ...  30.0708   NaN         C\n",
              "\n",
              "[10 rows x 12 columns]"
            ]
          },
          "metadata": {
            "tags": []
          },
          "execution_count": 5
        }
      ]
    },
    {
      "cell_type": "code",
      "metadata": {
        "colab": {
          "base_uri": "https://localhost:8080/",
          "height": 221
        },
        "id": "mk44M6CUcNAL",
        "outputId": "ef0bbf46-7b52-445f-ffe7-c121e3856f88"
      },
      "source": [
        "dataset.tail() #Muestra las últimas 5 líneas del dataset\n"
      ],
      "execution_count": null,
      "outputs": [
        {
          "output_type": "execute_result",
          "data": {
            "text/html": [
              "<div>\n",
              "<style scoped>\n",
              "    .dataframe tbody tr th:only-of-type {\n",
              "        vertical-align: middle;\n",
              "    }\n",
              "\n",
              "    .dataframe tbody tr th {\n",
              "        vertical-align: top;\n",
              "    }\n",
              "\n",
              "    .dataframe thead th {\n",
              "        text-align: right;\n",
              "    }\n",
              "</style>\n",
              "<table border=\"1\" class=\"dataframe\">\n",
              "  <thead>\n",
              "    <tr style=\"text-align: right;\">\n",
              "      <th></th>\n",
              "      <th>PassengerId</th>\n",
              "      <th>Survived</th>\n",
              "      <th>Pclass</th>\n",
              "      <th>Name</th>\n",
              "      <th>Sex</th>\n",
              "      <th>Age</th>\n",
              "      <th>SibSp</th>\n",
              "      <th>Parch</th>\n",
              "      <th>Ticket</th>\n",
              "      <th>Fare</th>\n",
              "      <th>Cabin</th>\n",
              "      <th>Embarked</th>\n",
              "    </tr>\n",
              "  </thead>\n",
              "  <tbody>\n",
              "    <tr>\n",
              "      <th>886</th>\n",
              "      <td>887</td>\n",
              "      <td>0</td>\n",
              "      <td>2</td>\n",
              "      <td>Montvila, Rev. Juozas</td>\n",
              "      <td>male</td>\n",
              "      <td>27.0</td>\n",
              "      <td>0</td>\n",
              "      <td>0</td>\n",
              "      <td>211536</td>\n",
              "      <td>13.00</td>\n",
              "      <td>NaN</td>\n",
              "      <td>S</td>\n",
              "    </tr>\n",
              "    <tr>\n",
              "      <th>887</th>\n",
              "      <td>888</td>\n",
              "      <td>1</td>\n",
              "      <td>1</td>\n",
              "      <td>Graham, Miss. Margaret Edith</td>\n",
              "      <td>female</td>\n",
              "      <td>19.0</td>\n",
              "      <td>0</td>\n",
              "      <td>0</td>\n",
              "      <td>112053</td>\n",
              "      <td>30.00</td>\n",
              "      <td>B42</td>\n",
              "      <td>S</td>\n",
              "    </tr>\n",
              "    <tr>\n",
              "      <th>888</th>\n",
              "      <td>889</td>\n",
              "      <td>0</td>\n",
              "      <td>3</td>\n",
              "      <td>Johnston, Miss. Catherine Helen \"Carrie\"</td>\n",
              "      <td>female</td>\n",
              "      <td>NaN</td>\n",
              "      <td>1</td>\n",
              "      <td>2</td>\n",
              "      <td>W./C. 6607</td>\n",
              "      <td>23.45</td>\n",
              "      <td>NaN</td>\n",
              "      <td>S</td>\n",
              "    </tr>\n",
              "    <tr>\n",
              "      <th>889</th>\n",
              "      <td>890</td>\n",
              "      <td>1</td>\n",
              "      <td>1</td>\n",
              "      <td>Behr, Mr. Karl Howell</td>\n",
              "      <td>male</td>\n",
              "      <td>26.0</td>\n",
              "      <td>0</td>\n",
              "      <td>0</td>\n",
              "      <td>111369</td>\n",
              "      <td>30.00</td>\n",
              "      <td>C148</td>\n",
              "      <td>C</td>\n",
              "    </tr>\n",
              "    <tr>\n",
              "      <th>890</th>\n",
              "      <td>891</td>\n",
              "      <td>0</td>\n",
              "      <td>3</td>\n",
              "      <td>Dooley, Mr. Patrick</td>\n",
              "      <td>male</td>\n",
              "      <td>32.0</td>\n",
              "      <td>0</td>\n",
              "      <td>0</td>\n",
              "      <td>370376</td>\n",
              "      <td>7.75</td>\n",
              "      <td>NaN</td>\n",
              "      <td>Q</td>\n",
              "    </tr>\n",
              "  </tbody>\n",
              "</table>\n",
              "</div>"
            ],
            "text/plain": [
              "     PassengerId  Survived  Pclass  ...   Fare Cabin  Embarked\n",
              "886          887         0       2  ...  13.00   NaN         S\n",
              "887          888         1       1  ...  30.00   B42         S\n",
              "888          889         0       3  ...  23.45   NaN         S\n",
              "889          890         1       1  ...  30.00  C148         C\n",
              "890          891         0       3  ...   7.75   NaN         Q\n",
              "\n",
              "[5 rows x 12 columns]"
            ]
          },
          "metadata": {
            "tags": []
          },
          "execution_count": 6
        }
      ]
    },
    {
      "cell_type": "code",
      "metadata": {
        "colab": {
          "base_uri": "https://localhost:8080/"
        },
        "id": "q46wmF1ucRrP",
        "outputId": "f584b8b3-5afe-4fa6-baa4-9c9d3bc7e002"
      },
      "source": [
        "#Muestra información detallada de nuestro dataset\n",
        "dataset.info()\n"
      ],
      "execution_count": null,
      "outputs": [
        {
          "output_type": "stream",
          "text": [
            "<class 'pandas.core.frame.DataFrame'>\n",
            "RangeIndex: 891 entries, 0 to 890\n",
            "Data columns (total 12 columns):\n",
            " #   Column       Non-Null Count  Dtype  \n",
            "---  ------       --------------  -----  \n",
            " 0   PassengerId  891 non-null    int64  \n",
            " 1   Survived     891 non-null    int64  \n",
            " 2   Pclass       891 non-null    int64  \n",
            " 3   Name         891 non-null    object \n",
            " 4   Sex          891 non-null    object \n",
            " 5   Age          714 non-null    float64\n",
            " 6   SibSp        891 non-null    int64  \n",
            " 7   Parch        891 non-null    int64  \n",
            " 8   Ticket       891 non-null    object \n",
            " 9   Fare         891 non-null    float64\n",
            " 10  Cabin        204 non-null    object \n",
            " 11  Embarked     889 non-null    object \n",
            "dtypes: float64(2), int64(5), object(5)\n",
            "memory usage: 83.7+ KB\n"
          ],
          "name": "stdout"
        }
      ]
    },
    {
      "cell_type": "code",
      "metadata": {
        "colab": {
          "base_uri": "https://localhost:8080/",
          "height": 297
        },
        "id": "N31rmSrgcWCQ",
        "outputId": "4f7b4329-a746-4ee6-b8b8-a9d6ee544aaa"
      },
      "source": [
        "#Muestra información estadística de nuestro dataset\n",
        "dataset.describe()\n"
      ],
      "execution_count": null,
      "outputs": [
        {
          "output_type": "execute_result",
          "data": {
            "text/html": [
              "<div>\n",
              "<style scoped>\n",
              "    .dataframe tbody tr th:only-of-type {\n",
              "        vertical-align: middle;\n",
              "    }\n",
              "\n",
              "    .dataframe tbody tr th {\n",
              "        vertical-align: top;\n",
              "    }\n",
              "\n",
              "    .dataframe thead th {\n",
              "        text-align: right;\n",
              "    }\n",
              "</style>\n",
              "<table border=\"1\" class=\"dataframe\">\n",
              "  <thead>\n",
              "    <tr style=\"text-align: right;\">\n",
              "      <th></th>\n",
              "      <th>PassengerId</th>\n",
              "      <th>Survived</th>\n",
              "      <th>Pclass</th>\n",
              "      <th>Age</th>\n",
              "      <th>SibSp</th>\n",
              "      <th>Parch</th>\n",
              "      <th>Fare</th>\n",
              "    </tr>\n",
              "  </thead>\n",
              "  <tbody>\n",
              "    <tr>\n",
              "      <th>count</th>\n",
              "      <td>891.000000</td>\n",
              "      <td>891.000000</td>\n",
              "      <td>891.000000</td>\n",
              "      <td>714.000000</td>\n",
              "      <td>891.000000</td>\n",
              "      <td>891.000000</td>\n",
              "      <td>891.000000</td>\n",
              "    </tr>\n",
              "    <tr>\n",
              "      <th>mean</th>\n",
              "      <td>446.000000</td>\n",
              "      <td>0.383838</td>\n",
              "      <td>2.308642</td>\n",
              "      <td>29.699118</td>\n",
              "      <td>0.523008</td>\n",
              "      <td>0.381594</td>\n",
              "      <td>32.204208</td>\n",
              "    </tr>\n",
              "    <tr>\n",
              "      <th>std</th>\n",
              "      <td>257.353842</td>\n",
              "      <td>0.486592</td>\n",
              "      <td>0.836071</td>\n",
              "      <td>14.526497</td>\n",
              "      <td>1.102743</td>\n",
              "      <td>0.806057</td>\n",
              "      <td>49.693429</td>\n",
              "    </tr>\n",
              "    <tr>\n",
              "      <th>min</th>\n",
              "      <td>1.000000</td>\n",
              "      <td>0.000000</td>\n",
              "      <td>1.000000</td>\n",
              "      <td>0.420000</td>\n",
              "      <td>0.000000</td>\n",
              "      <td>0.000000</td>\n",
              "      <td>0.000000</td>\n",
              "    </tr>\n",
              "    <tr>\n",
              "      <th>25%</th>\n",
              "      <td>223.500000</td>\n",
              "      <td>0.000000</td>\n",
              "      <td>2.000000</td>\n",
              "      <td>20.125000</td>\n",
              "      <td>0.000000</td>\n",
              "      <td>0.000000</td>\n",
              "      <td>7.910400</td>\n",
              "    </tr>\n",
              "    <tr>\n",
              "      <th>50%</th>\n",
              "      <td>446.000000</td>\n",
              "      <td>0.000000</td>\n",
              "      <td>3.000000</td>\n",
              "      <td>28.000000</td>\n",
              "      <td>0.000000</td>\n",
              "      <td>0.000000</td>\n",
              "      <td>14.454200</td>\n",
              "    </tr>\n",
              "    <tr>\n",
              "      <th>75%</th>\n",
              "      <td>668.500000</td>\n",
              "      <td>1.000000</td>\n",
              "      <td>3.000000</td>\n",
              "      <td>38.000000</td>\n",
              "      <td>1.000000</td>\n",
              "      <td>0.000000</td>\n",
              "      <td>31.000000</td>\n",
              "    </tr>\n",
              "    <tr>\n",
              "      <th>max</th>\n",
              "      <td>891.000000</td>\n",
              "      <td>1.000000</td>\n",
              "      <td>3.000000</td>\n",
              "      <td>80.000000</td>\n",
              "      <td>8.000000</td>\n",
              "      <td>6.000000</td>\n",
              "      <td>512.329200</td>\n",
              "    </tr>\n",
              "  </tbody>\n",
              "</table>\n",
              "</div>"
            ],
            "text/plain": [
              "       PassengerId    Survived      Pclass  ...       SibSp       Parch        Fare\n",
              "count   891.000000  891.000000  891.000000  ...  891.000000  891.000000  891.000000\n",
              "mean    446.000000    0.383838    2.308642  ...    0.523008    0.381594   32.204208\n",
              "std     257.353842    0.486592    0.836071  ...    1.102743    0.806057   49.693429\n",
              "min       1.000000    0.000000    1.000000  ...    0.000000    0.000000    0.000000\n",
              "25%     223.500000    0.000000    2.000000  ...    0.000000    0.000000    7.910400\n",
              "50%     446.000000    0.000000    3.000000  ...    0.000000    0.000000   14.454200\n",
              "75%     668.500000    1.000000    3.000000  ...    1.000000    0.000000   31.000000\n",
              "max     891.000000    1.000000    3.000000  ...    8.000000    6.000000  512.329200\n",
              "\n",
              "[8 rows x 7 columns]"
            ]
          },
          "metadata": {
            "tags": []
          },
          "execution_count": 8
        }
      ]
    },
    {
      "cell_type": "code",
      "metadata": {
        "colab": {
          "base_uri": "https://localhost:8080/",
          "height": 80
        },
        "id": "eVdL9838dbHx",
        "outputId": "2335a6fa-9c84-4fa5-f532-a7b0e7a712f7"
      },
      "source": [
        "dataset.sample() #Muestra un registro aleatório de nuestro dataset, podemos pasar un parámetro también.\n"
      ],
      "execution_count": null,
      "outputs": [
        {
          "output_type": "execute_result",
          "data": {
            "text/html": [
              "<div>\n",
              "<style scoped>\n",
              "    .dataframe tbody tr th:only-of-type {\n",
              "        vertical-align: middle;\n",
              "    }\n",
              "\n",
              "    .dataframe tbody tr th {\n",
              "        vertical-align: top;\n",
              "    }\n",
              "\n",
              "    .dataframe thead th {\n",
              "        text-align: right;\n",
              "    }\n",
              "</style>\n",
              "<table border=\"1\" class=\"dataframe\">\n",
              "  <thead>\n",
              "    <tr style=\"text-align: right;\">\n",
              "      <th></th>\n",
              "      <th>PassengerId</th>\n",
              "      <th>Survived</th>\n",
              "      <th>Pclass</th>\n",
              "      <th>Name</th>\n",
              "      <th>Sex</th>\n",
              "      <th>Age</th>\n",
              "      <th>SibSp</th>\n",
              "      <th>Parch</th>\n",
              "      <th>Ticket</th>\n",
              "      <th>Fare</th>\n",
              "      <th>Cabin</th>\n",
              "      <th>Embarked</th>\n",
              "    </tr>\n",
              "  </thead>\n",
              "  <tbody>\n",
              "    <tr>\n",
              "      <th>789</th>\n",
              "      <td>790</td>\n",
              "      <td>0</td>\n",
              "      <td>1</td>\n",
              "      <td>Guggenheim, Mr. Benjamin</td>\n",
              "      <td>male</td>\n",
              "      <td>46.0</td>\n",
              "      <td>0</td>\n",
              "      <td>0</td>\n",
              "      <td>PC 17593</td>\n",
              "      <td>79.2</td>\n",
              "      <td>B82 B84</td>\n",
              "      <td>C</td>\n",
              "    </tr>\n",
              "  </tbody>\n",
              "</table>\n",
              "</div>"
            ],
            "text/plain": [
              "     PassengerId  Survived  Pclass  ...  Fare    Cabin  Embarked\n",
              "789          790         0       1  ...  79.2  B82 B84         C\n",
              "\n",
              "[1 rows x 12 columns]"
            ]
          },
          "metadata": {
            "tags": []
          },
          "execution_count": 9
        }
      ]
    },
    {
      "cell_type": "code",
      "metadata": {
        "id": "ycrwpHuwfVMH"
      },
      "source": [
        "#Eliminando las columnas que no me servirán como features\n",
        "dataset.drop(['PassengerId','Name','Ticket'],axis=1,inplace=True)\n"
      ],
      "execution_count": null,
      "outputs": []
    },
    {
      "cell_type": "code",
      "metadata": {
        "colab": {
          "base_uri": "https://localhost:8080/",
          "height": 204
        },
        "id": "5yf6VQs2fksR",
        "outputId": "c9235b1e-7a6c-4526-c5d9-70e323bce1f8"
      },
      "source": [
        "#Verificando si mi dataset fue ajustado eliminando las columnas mencionadas\n",
        "dataset.head()\n"
      ],
      "execution_count": null,
      "outputs": [
        {
          "output_type": "execute_result",
          "data": {
            "text/html": [
              "<div>\n",
              "<style scoped>\n",
              "    .dataframe tbody tr th:only-of-type {\n",
              "        vertical-align: middle;\n",
              "    }\n",
              "\n",
              "    .dataframe tbody tr th {\n",
              "        vertical-align: top;\n",
              "    }\n",
              "\n",
              "    .dataframe thead th {\n",
              "        text-align: right;\n",
              "    }\n",
              "</style>\n",
              "<table border=\"1\" class=\"dataframe\">\n",
              "  <thead>\n",
              "    <tr style=\"text-align: right;\">\n",
              "      <th></th>\n",
              "      <th>Survived</th>\n",
              "      <th>Pclass</th>\n",
              "      <th>Sex</th>\n",
              "      <th>Age</th>\n",
              "      <th>SibSp</th>\n",
              "      <th>Parch</th>\n",
              "      <th>Fare</th>\n",
              "      <th>Cabin</th>\n",
              "      <th>Embarked</th>\n",
              "    </tr>\n",
              "  </thead>\n",
              "  <tbody>\n",
              "    <tr>\n",
              "      <th>0</th>\n",
              "      <td>0</td>\n",
              "      <td>3</td>\n",
              "      <td>male</td>\n",
              "      <td>22.0</td>\n",
              "      <td>1</td>\n",
              "      <td>0</td>\n",
              "      <td>7.2500</td>\n",
              "      <td>NaN</td>\n",
              "      <td>S</td>\n",
              "    </tr>\n",
              "    <tr>\n",
              "      <th>1</th>\n",
              "      <td>1</td>\n",
              "      <td>1</td>\n",
              "      <td>female</td>\n",
              "      <td>38.0</td>\n",
              "      <td>1</td>\n",
              "      <td>0</td>\n",
              "      <td>71.2833</td>\n",
              "      <td>C85</td>\n",
              "      <td>C</td>\n",
              "    </tr>\n",
              "    <tr>\n",
              "      <th>2</th>\n",
              "      <td>1</td>\n",
              "      <td>3</td>\n",
              "      <td>female</td>\n",
              "      <td>26.0</td>\n",
              "      <td>0</td>\n",
              "      <td>0</td>\n",
              "      <td>7.9250</td>\n",
              "      <td>NaN</td>\n",
              "      <td>S</td>\n",
              "    </tr>\n",
              "    <tr>\n",
              "      <th>3</th>\n",
              "      <td>1</td>\n",
              "      <td>1</td>\n",
              "      <td>female</td>\n",
              "      <td>35.0</td>\n",
              "      <td>1</td>\n",
              "      <td>0</td>\n",
              "      <td>53.1000</td>\n",
              "      <td>C123</td>\n",
              "      <td>S</td>\n",
              "    </tr>\n",
              "    <tr>\n",
              "      <th>4</th>\n",
              "      <td>0</td>\n",
              "      <td>3</td>\n",
              "      <td>male</td>\n",
              "      <td>35.0</td>\n",
              "      <td>0</td>\n",
              "      <td>0</td>\n",
              "      <td>8.0500</td>\n",
              "      <td>NaN</td>\n",
              "      <td>S</td>\n",
              "    </tr>\n",
              "  </tbody>\n",
              "</table>\n",
              "</div>"
            ],
            "text/plain": [
              "   Survived  Pclass     Sex   Age  SibSp  Parch     Fare Cabin Embarked\n",
              "0         0       3    male  22.0      1      0   7.2500   NaN        S\n",
              "1         1       1  female  38.0      1      0  71.2833   C85        C\n",
              "2         1       3  female  26.0      0      0   7.9250   NaN        S\n",
              "3         1       1  female  35.0      1      0  53.1000  C123        S\n",
              "4         0       3    male  35.0      0      0   8.0500   NaN        S"
            ]
          },
          "metadata": {
            "tags": []
          },
          "execution_count": 11
        }
      ]
    },
    {
      "cell_type": "code",
      "metadata": {
        "colab": {
          "base_uri": "https://localhost:8080/",
          "height": 204
        },
        "id": "NtsYpfznhwjk",
        "outputId": "221538f0-2805-4552-99aa-45ac12bbf3e2"
      },
      "source": [
        "#Creo una feature llamada Family, uniendo la columna SibSp(esposa ou conyugue) y Parch(PArientes)\n",
        "dataset['Family'] = dataset['SibSp'] + dataset['Parch']\n",
        "dataset.drop(['SibSp','Parch'],axis=1,inplace=True) #Elimino las columnas que ya no me sirven\n",
        "dataset.head()\n"
      ],
      "execution_count": null,
      "outputs": [
        {
          "output_type": "execute_result",
          "data": {
            "text/html": [
              "<div>\n",
              "<style scoped>\n",
              "    .dataframe tbody tr th:only-of-type {\n",
              "        vertical-align: middle;\n",
              "    }\n",
              "\n",
              "    .dataframe tbody tr th {\n",
              "        vertical-align: top;\n",
              "    }\n",
              "\n",
              "    .dataframe thead th {\n",
              "        text-align: right;\n",
              "    }\n",
              "</style>\n",
              "<table border=\"1\" class=\"dataframe\">\n",
              "  <thead>\n",
              "    <tr style=\"text-align: right;\">\n",
              "      <th></th>\n",
              "      <th>Survived</th>\n",
              "      <th>Pclass</th>\n",
              "      <th>Sex</th>\n",
              "      <th>Age</th>\n",
              "      <th>Fare</th>\n",
              "      <th>Cabin</th>\n",
              "      <th>Embarked</th>\n",
              "      <th>Family</th>\n",
              "    </tr>\n",
              "  </thead>\n",
              "  <tbody>\n",
              "    <tr>\n",
              "      <th>0</th>\n",
              "      <td>0</td>\n",
              "      <td>3</td>\n",
              "      <td>male</td>\n",
              "      <td>22.0</td>\n",
              "      <td>7.2500</td>\n",
              "      <td>NaN</td>\n",
              "      <td>S</td>\n",
              "      <td>1</td>\n",
              "    </tr>\n",
              "    <tr>\n",
              "      <th>1</th>\n",
              "      <td>1</td>\n",
              "      <td>1</td>\n",
              "      <td>female</td>\n",
              "      <td>38.0</td>\n",
              "      <td>71.2833</td>\n",
              "      <td>C85</td>\n",
              "      <td>C</td>\n",
              "      <td>1</td>\n",
              "    </tr>\n",
              "    <tr>\n",
              "      <th>2</th>\n",
              "      <td>1</td>\n",
              "      <td>3</td>\n",
              "      <td>female</td>\n",
              "      <td>26.0</td>\n",
              "      <td>7.9250</td>\n",
              "      <td>NaN</td>\n",
              "      <td>S</td>\n",
              "      <td>0</td>\n",
              "    </tr>\n",
              "    <tr>\n",
              "      <th>3</th>\n",
              "      <td>1</td>\n",
              "      <td>1</td>\n",
              "      <td>female</td>\n",
              "      <td>35.0</td>\n",
              "      <td>53.1000</td>\n",
              "      <td>C123</td>\n",
              "      <td>S</td>\n",
              "      <td>1</td>\n",
              "    </tr>\n",
              "    <tr>\n",
              "      <th>4</th>\n",
              "      <td>0</td>\n",
              "      <td>3</td>\n",
              "      <td>male</td>\n",
              "      <td>35.0</td>\n",
              "      <td>8.0500</td>\n",
              "      <td>NaN</td>\n",
              "      <td>S</td>\n",
              "      <td>0</td>\n",
              "    </tr>\n",
              "  </tbody>\n",
              "</table>\n",
              "</div>"
            ],
            "text/plain": [
              "   Survived  Pclass     Sex   Age     Fare Cabin Embarked  Family\n",
              "0         0       3    male  22.0   7.2500   NaN        S       1\n",
              "1         1       1  female  38.0  71.2833   C85        C       1\n",
              "2         1       3  female  26.0   7.9250   NaN        S       0\n",
              "3         1       1  female  35.0  53.1000  C123        S       1\n",
              "4         0       3    male  35.0   8.0500   NaN        S       0"
            ]
          },
          "metadata": {
            "tags": []
          },
          "execution_count": 12
        }
      ]
    },
    {
      "cell_type": "code",
      "metadata": {
        "colab": {
          "base_uri": "https://localhost:8080/"
        },
        "id": "evECgljAhz1d",
        "outputId": "c101b11e-4160-448f-eff4-11eaa49b4cbe"
      },
      "source": [
        "dataset.isnull().sum() #Verficvo los valores nulos de mi dataset\n"
      ],
      "execution_count": null,
      "outputs": [
        {
          "output_type": "execute_result",
          "data": {
            "text/plain": [
              "Survived      0\n",
              "Pclass        0\n",
              "Sex           0\n",
              "Age         177\n",
              "Fare          0\n",
              "Cabin       687\n",
              "Embarked      2\n",
              "Family        0\n",
              "dtype: int64"
            ]
          },
          "metadata": {
            "tags": []
          },
          "execution_count": 13
        }
      ]
    },
    {
      "cell_type": "code",
      "metadata": {
        "id": "KNVwQsYAhzqG"
      },
      "source": [
        "dataset.drop(['Cabin'],axis=1,inplace=True) #Elimino la columna Cabin\n"
      ],
      "execution_count": null,
      "outputs": []
    },
    {
      "cell_type": "code",
      "metadata": {
        "id": "3gjY6O45i3rX"
      },
      "source": [
        "#Asignamos NNN a los registros vacios de la columna Embarked\n",
        "dataset['Embarked'].fillna('NNN', inplace=True)\n",
        "#Ignoramos los registros NNN de la columna Embarked\n",
        "dataset=dataset.loc[dataset['Embarked']!='NNN',:]\n"
      ],
      "execution_count": null,
      "outputs": []
    },
    {
      "cell_type": "code",
      "metadata": {
        "colab": {
          "base_uri": "https://localhost:8080/",
          "height": 204
        },
        "id": "2luyvXfijQmW",
        "outputId": "ab93e450-9f72-41d3-e337-d9358819a4fc"
      },
      "source": [
        "#Intentando sdaber la edad de los faltantes\n",
        "dataset['Title']=''\n",
        "\n",
        "for i in dataset:\n",
        "  dataset['Title'] = all_data['Name'].str.extract('([A-Za-z]+)\\.',expand=False)\n",
        "dataset.head()\n"
      ],
      "execution_count": null,
      "outputs": [
        {
          "output_type": "execute_result",
          "data": {
            "text/html": [
              "<div>\n",
              "<style scoped>\n",
              "    .dataframe tbody tr th:only-of-type {\n",
              "        vertical-align: middle;\n",
              "    }\n",
              "\n",
              "    .dataframe tbody tr th {\n",
              "        vertical-align: top;\n",
              "    }\n",
              "\n",
              "    .dataframe thead th {\n",
              "        text-align: right;\n",
              "    }\n",
              "</style>\n",
              "<table border=\"1\" class=\"dataframe\">\n",
              "  <thead>\n",
              "    <tr style=\"text-align: right;\">\n",
              "      <th></th>\n",
              "      <th>Survived</th>\n",
              "      <th>Pclass</th>\n",
              "      <th>Sex</th>\n",
              "      <th>Age</th>\n",
              "      <th>Fare</th>\n",
              "      <th>Embarked</th>\n",
              "      <th>Family</th>\n",
              "      <th>Title</th>\n",
              "    </tr>\n",
              "  </thead>\n",
              "  <tbody>\n",
              "    <tr>\n",
              "      <th>0</th>\n",
              "      <td>0</td>\n",
              "      <td>3</td>\n",
              "      <td>male</td>\n",
              "      <td>22.0</td>\n",
              "      <td>7.2500</td>\n",
              "      <td>S</td>\n",
              "      <td>1</td>\n",
              "      <td>Mr</td>\n",
              "    </tr>\n",
              "    <tr>\n",
              "      <th>1</th>\n",
              "      <td>1</td>\n",
              "      <td>1</td>\n",
              "      <td>female</td>\n",
              "      <td>38.0</td>\n",
              "      <td>71.2833</td>\n",
              "      <td>C</td>\n",
              "      <td>1</td>\n",
              "      <td>Mrs</td>\n",
              "    </tr>\n",
              "    <tr>\n",
              "      <th>2</th>\n",
              "      <td>1</td>\n",
              "      <td>3</td>\n",
              "      <td>female</td>\n",
              "      <td>26.0</td>\n",
              "      <td>7.9250</td>\n",
              "      <td>S</td>\n",
              "      <td>0</td>\n",
              "      <td>Miss</td>\n",
              "    </tr>\n",
              "    <tr>\n",
              "      <th>3</th>\n",
              "      <td>1</td>\n",
              "      <td>1</td>\n",
              "      <td>female</td>\n",
              "      <td>35.0</td>\n",
              "      <td>53.1000</td>\n",
              "      <td>S</td>\n",
              "      <td>1</td>\n",
              "      <td>Mrs</td>\n",
              "    </tr>\n",
              "    <tr>\n",
              "      <th>4</th>\n",
              "      <td>0</td>\n",
              "      <td>3</td>\n",
              "      <td>male</td>\n",
              "      <td>35.0</td>\n",
              "      <td>8.0500</td>\n",
              "      <td>S</td>\n",
              "      <td>0</td>\n",
              "      <td>Mr</td>\n",
              "    </tr>\n",
              "  </tbody>\n",
              "</table>\n",
              "</div>"
            ],
            "text/plain": [
              "   Survived  Pclass     Sex   Age     Fare Embarked  Family Title\n",
              "0         0       3    male  22.0   7.2500        S       1    Mr\n",
              "1         1       1  female  38.0  71.2833        C       1   Mrs\n",
              "2         1       3  female  26.0   7.9250        S       0  Miss\n",
              "3         1       1  female  35.0  53.1000        S       1   Mrs\n",
              "4         0       3    male  35.0   8.0500        S       0    Mr"
            ]
          },
          "metadata": {
            "tags": []
          },
          "execution_count": 18
        }
      ]
    },
    {
      "cell_type": "code",
      "metadata": {
        "colab": {
          "base_uri": "https://localhost:8080/"
        },
        "id": "1kkzVprcj9Es",
        "outputId": "86adaee7-2565-43f0-9ce9-a0b3d5e389f8"
      },
      "source": [
        "#Damos un vistazo a los Titles\n",
        "dataset['Title'].unique()\n"
      ],
      "execution_count": null,
      "outputs": [
        {
          "output_type": "execute_result",
          "data": {
            "text/plain": [
              "array(['Mr', 'Mrs', 'Miss', 'Master', 'Don', 'Rev', 'Dr', 'Mme', 'Ms',\n",
              "       'Major', 'Lady', 'Sir', 'Mlle', 'Col', 'Capt', 'Countess',\n",
              "       'Jonkheer'], dtype=object)"
            ]
          },
          "metadata": {
            "tags": []
          },
          "execution_count": 19
        }
      ]
    },
    {
      "cell_type": "code",
      "metadata": {
        "colab": {
          "base_uri": "https://localhost:8080/",
          "height": 351
        },
        "id": "NfdJXiwTkAx_",
        "outputId": "37d2e880-6a8a-4fa4-fbcb-7af7d19615ae"
      },
      "source": [
        "#Grafico de Edad x Titulo\n",
        "plt.figure(figsize=(15,5))\n",
        "sns.barplot(x=dataset['Title'], y=dataset['Age'])\n"
      ],
      "execution_count": null,
      "outputs": [
        {
          "output_type": "execute_result",
          "data": {
            "text/plain": [
              "<matplotlib.axes._subplots.AxesSubplot at 0x7fcb3d757c50>"
            ]
          },
          "metadata": {
            "tags": []
          },
          "execution_count": 20
        },
        {
          "output_type": "display_data",
          "data": {
            "image/png": "[encoded data removed]",
            "text/plain": [
              "<Figure size 1080x360 with 1 Axes>"
            ]
          },
          "metadata": {
            "tags": [],
            "needs_background": "light"
          }
        }
      ]
    },
    {
      "cell_type": "code",
      "metadata": {
        "colab": {
          "base_uri": "https://localhost:8080/"
        },
        "id": "ckTd_zI0k2LJ",
        "outputId": "41f0302e-4a41-41b3-ca89-80487a3d943b"
      },
      "source": [
        "#Creamos un diccionario de titulos con llave y las medias de edad como valor\n",
        "age_means =dataset.groupby('Title')['Age'].mean().to_dict()\n",
        "age_means\n"
      ],
      "execution_count": null,
      "outputs": [
        {
          "output_type": "execute_result",
          "data": {
            "text/plain": [
              "{'Capt': 70.0,\n",
              " 'Col': 58.0,\n",
              " 'Countess': 33.0,\n",
              " 'Don': 40.0,\n",
              " 'Dr': 42.0,\n",
              " 'Jonkheer': 38.0,\n",
              " 'Lady': 48.0,\n",
              " 'Major': 48.5,\n",
              " 'Master': 4.574166666666667,\n",
              " 'Miss': 21.662068965517243,\n",
              " 'Mlle': 24.0,\n",
              " 'Mme': 24.0,\n",
              " 'Mr': 32.368090452261306,\n",
              " 'Mrs': 35.654205607476634,\n",
              " 'Ms': 28.0,\n",
              " 'Rev': 43.166666666666664,\n",
              " 'Sir': 49.0}"
            ]
          },
          "metadata": {
            "tags": []
          },
          "execution_count": 21
        }
      ]
    },
    {
      "cell_type": "code",
      "metadata": {
        "id": "NPy4nM14k3u6"
      },
      "source": [
        "#Usando LOC encontramos las lineas que no tienen edad definifa e llenamos esas lineas con los valores medios\n",
        "no_age = dataset.loc[np.isnan(dataset['Age'])].index\n",
        "dataset.loc[no_age,'Age'] =dataset['Title'].loc[no_age].map(age_means)\n"
      ],
      "execution_count": null,
      "outputs": []
    },
    {
      "cell_type": "code",
      "metadata": {
        "colab": {
          "base_uri": "https://localhost:8080/"
        },
        "id": "jc-UTd5NlC2x",
        "outputId": "1218c350-9908-4216-f9dc-f086c1bc88d7"
      },
      "source": [
        "#ver registros nulos de mi dataset\n",
        "dataset.isnull().sum()\n"
      ],
      "execution_count": null,
      "outputs": [
        {
          "output_type": "execute_result",
          "data": {
            "text/plain": [
              "Survived    0\n",
              "Pclass      0\n",
              "Sex         0\n",
              "Age         0\n",
              "Fare        0\n",
              "Embarked    0\n",
              "Family      0\n",
              "Title       0\n",
              "dtype: int64"
            ]
          },
          "metadata": {
            "tags": []
          },
          "execution_count": 23
        }
      ]
    },
    {
      "cell_type": "code",
      "metadata": {
        "colab": {
          "base_uri": "https://localhost:8080/",
          "height": 296
        },
        "id": "NsX2Pz6KlOwD",
        "outputId": "5f88670b-ffe3-40c5-a442-666762c457c7"
      },
      "source": [
        "#Clase x Sobreviviente\n",
        "sns.barplot(x=dataset['Pclass'], y = dataset['Survived'])\n"
      ],
      "execution_count": null,
      "outputs": [
        {
          "output_type": "execute_result",
          "data": {
            "text/plain": [
              "<matplotlib.axes._subplots.AxesSubplot at 0x7fcb1efd2e48>"
            ]
          },
          "metadata": {
            "tags": []
          },
          "execution_count": 24
        },
        {
          "output_type": "display_data",
          "data": {
            "image/png": "[encoded data removed]",
            "text/plain": [
              "<Figure size 432x288 with 1 Axes>"
            ]
          },
          "metadata": {
            "tags": [],
            "needs_background": "light"
          }
        }
      ]
    },
    {
      "cell_type": "code",
      "metadata": {
        "id": "UAJrI4MLlqQU"
      },
      "source": [
        "#LLamo de otros a los titulos que no tienen muchos registros\n",
        "titles_dict = {\n",
        "    \n",
        "'Capt': 'Others',\n",
        "'Major':'Others',\n",
        "'Jonkheer': 'Others',\n",
        " 'Don': 'Others',\n",
        "'Sir': 'Others',\n",
        " 'Dr': 'Others',\n",
        " 'Rev': 'Others',\n",
        "'Countess': 'Others',\n",
        " 'Col': 'Others',\n",
        " \n",
        " 'Lady': 'Others',\n",
        " \n",
        " 'Master': 'Master',\n",
        " 'Miss': 'Miss',\n",
        " 'Mlle': 'Miss',\n",
        "\n",
        " 'Mme': 'Mrs',\n",
        " 'Mr': 'Mr',\n",
        " 'Mrs': 'Mrs',\n",
        " 'Ms': \"Miss\"\n",
        "}\n",
        "dataset['Title'] = dataset['Title'].map(titles_dict)\n"
      ],
      "execution_count": null,
      "outputs": []
    },
    {
      "cell_type": "code",
      "metadata": {
        "colab": {
          "base_uri": "https://localhost:8080/",
          "height": 296
        },
        "id": "w_CaoeDUmPNI",
        "outputId": "172a4a52-2662-459f-d146-8c31c7fc109e"
      },
      "source": [
        "#Graficar la relación existente entre titulos x sobrevivientes\n",
        "sns.barplot(x=dataset['Title'], y = dataset['Survived'])\n"
      ],
      "execution_count": null,
      "outputs": [
        {
          "output_type": "execute_result",
          "data": {
            "text/plain": [
              "<matplotlib.axes._subplots.AxesSubplot at 0x7fcb1eb63e10>"
            ]
          },
          "metadata": {
            "tags": []
          },
          "execution_count": 26
        },
        {
          "output_type": "display_data",
          "data": {
            "image/png": "[encoded data removed]",
            "text/plain": [
              "<Figure size 432x288 with 1 Axes>"
            ]
          },
          "metadata": {
            "tags": [],
            "needs_background": "light"
          }
        }
      ]
    },
    {
      "cell_type": "code",
      "metadata": {
        "colab": {
          "base_uri": "https://localhost:8080/",
          "height": 296
        },
        "id": "p8kSZwTZmhNP",
        "outputId": "8957d653-4e6e-4e2f-dc9f-dee4db2f6764"
      },
      "source": [
        "#Sexo x Sobriviente\n",
        "sns.barplot(x=dataset['Sex'], y = dataset['Survived'])\n"
      ],
      "execution_count": null,
      "outputs": [
        {
          "output_type": "execute_result",
          "data": {
            "text/plain": [
              "<matplotlib.axes._subplots.AxesSubplot at 0x7fcb1eb52fd0>"
            ]
          },
          "metadata": {
            "tags": []
          },
          "execution_count": 27
        },
        {
          "output_type": "display_data",
          "data": {
            "image/png": "[encoded data removed]",
            "text/plain": [
              "<Figure size 432x288 with 1 Axes>"
            ]
          },
          "metadata": {
            "tags": [],
            "needs_background": "light"
          }
        }
      ]
    },
    {
      "cell_type": "code",
      "metadata": {
        "colab": {
          "base_uri": "https://localhost:8080/",
          "height": 359
        },
        "id": "CibQRhgXn8Wt",
        "outputId": "673a35a1-e6f2-4265-fa33-1d53fe5569df"
      },
      "source": [
        "# Por lo tanto, podemos transformar la edad en categorias ('Niño, Adulto y Anciano(VIejo)') de acuerdo con las edades.\n",
        "# Asi no perdemos la generalización y reduzimos posíbles errores en el llenado de los valores ausentes.\n",
        "\n",
        "#dataset['Age'] = pd.cut(dataset['Age'], bins=[0, 14, 50, 150], labels=['N', 'A', 'V'])\n",
        "dataset.head(10)\n"
      ],
      "execution_count": null,
      "outputs": [
        {
          "output_type": "execute_result",
          "data": {
            "text/html": [
              "<div>\n",
              "<style scoped>\n",
              "    .dataframe tbody tr th:only-of-type {\n",
              "        vertical-align: middle;\n",
              "    }\n",
              "\n",
              "    .dataframe tbody tr th {\n",
              "        vertical-align: top;\n",
              "    }\n",
              "\n",
              "    .dataframe thead th {\n",
              "        text-align: right;\n",
              "    }\n",
              "</style>\n",
              "<table border=\"1\" class=\"dataframe\">\n",
              "  <thead>\n",
              "    <tr style=\"text-align: right;\">\n",
              "      <th></th>\n",
              "      <th>Survived</th>\n",
              "      <th>Pclass</th>\n",
              "      <th>Sex</th>\n",
              "      <th>Age</th>\n",
              "      <th>Fare</th>\n",
              "      <th>Embarked</th>\n",
              "      <th>Family</th>\n",
              "      <th>Title</th>\n",
              "    </tr>\n",
              "  </thead>\n",
              "  <tbody>\n",
              "    <tr>\n",
              "      <th>0</th>\n",
              "      <td>0</td>\n",
              "      <td>3</td>\n",
              "      <td>male</td>\n",
              "      <td>A</td>\n",
              "      <td>7.2500</td>\n",
              "      <td>S</td>\n",
              "      <td>1</td>\n",
              "      <td>Mr</td>\n",
              "    </tr>\n",
              "    <tr>\n",
              "      <th>1</th>\n",
              "      <td>1</td>\n",
              "      <td>1</td>\n",
              "      <td>female</td>\n",
              "      <td>A</td>\n",
              "      <td>71.2833</td>\n",
              "      <td>C</td>\n",
              "      <td>1</td>\n",
              "      <td>Mrs</td>\n",
              "    </tr>\n",
              "    <tr>\n",
              "      <th>2</th>\n",
              "      <td>1</td>\n",
              "      <td>3</td>\n",
              "      <td>female</td>\n",
              "      <td>A</td>\n",
              "      <td>7.9250</td>\n",
              "      <td>S</td>\n",
              "      <td>0</td>\n",
              "      <td>Miss</td>\n",
              "    </tr>\n",
              "    <tr>\n",
              "      <th>3</th>\n",
              "      <td>1</td>\n",
              "      <td>1</td>\n",
              "      <td>female</td>\n",
              "      <td>A</td>\n",
              "      <td>53.1000</td>\n",
              "      <td>S</td>\n",
              "      <td>1</td>\n",
              "      <td>Mrs</td>\n",
              "    </tr>\n",
              "    <tr>\n",
              "      <th>4</th>\n",
              "      <td>0</td>\n",
              "      <td>3</td>\n",
              "      <td>male</td>\n",
              "      <td>A</td>\n",
              "      <td>8.0500</td>\n",
              "      <td>S</td>\n",
              "      <td>0</td>\n",
              "      <td>Mr</td>\n",
              "    </tr>\n",
              "    <tr>\n",
              "      <th>5</th>\n",
              "      <td>0</td>\n",
              "      <td>3</td>\n",
              "      <td>male</td>\n",
              "      <td>A</td>\n",
              "      <td>8.4583</td>\n",
              "      <td>Q</td>\n",
              "      <td>0</td>\n",
              "      <td>Mr</td>\n",
              "    </tr>\n",
              "    <tr>\n",
              "      <th>6</th>\n",
              "      <td>0</td>\n",
              "      <td>1</td>\n",
              "      <td>male</td>\n",
              "      <td>V</td>\n",
              "      <td>51.8625</td>\n",
              "      <td>S</td>\n",
              "      <td>0</td>\n",
              "      <td>Mr</td>\n",
              "    </tr>\n",
              "    <tr>\n",
              "      <th>7</th>\n",
              "      <td>0</td>\n",
              "      <td>3</td>\n",
              "      <td>male</td>\n",
              "      <td>N</td>\n",
              "      <td>21.0750</td>\n",
              "      <td>S</td>\n",
              "      <td>4</td>\n",
              "      <td>Master</td>\n",
              "    </tr>\n",
              "    <tr>\n",
              "      <th>8</th>\n",
              "      <td>1</td>\n",
              "      <td>3</td>\n",
              "      <td>female</td>\n",
              "      <td>A</td>\n",
              "      <td>11.1333</td>\n",
              "      <td>S</td>\n",
              "      <td>2</td>\n",
              "      <td>Mrs</td>\n",
              "    </tr>\n",
              "    <tr>\n",
              "      <th>9</th>\n",
              "      <td>1</td>\n",
              "      <td>2</td>\n",
              "      <td>female</td>\n",
              "      <td>N</td>\n",
              "      <td>30.0708</td>\n",
              "      <td>C</td>\n",
              "      <td>1</td>\n",
              "      <td>Mrs</td>\n",
              "    </tr>\n",
              "  </tbody>\n",
              "</table>\n",
              "</div>"
            ],
            "text/plain": [
              "   Survived  Pclass     Sex Age     Fare Embarked  Family   Title\n",
              "0         0       3    male   A   7.2500        S       1      Mr\n",
              "1         1       1  female   A  71.2833        C       1     Mrs\n",
              "2         1       3  female   A   7.9250        S       0    Miss\n",
              "3         1       1  female   A  53.1000        S       1     Mrs\n",
              "4         0       3    male   A   8.0500        S       0      Mr\n",
              "5         0       3    male   A   8.4583        Q       0      Mr\n",
              "6         0       1    male   V  51.8625        S       0      Mr\n",
              "7         0       3    male   N  21.0750        S       4  Master\n",
              "8         1       3  female   A  11.1333        S       2     Mrs\n",
              "9         1       2  female   N  30.0708        C       1     Mrs"
            ]
          },
          "metadata": {
            "tags": []
          },
          "execution_count": 29
        }
      ]
    },
    {
      "cell_type": "code",
      "metadata": {
        "colab": {
          "base_uri": "https://localhost:8080/",
          "height": 296
        },
        "id": "ewgKO9B8odVO",
        "outputId": "4bba9aa8-8d3a-46f7-ce24-5e4378f4dddc"
      },
      "source": [
        "#Graficar la relación entre Clase, Precio y Sobrevivió o no\n",
        "sns.barplot(dataset['Survived'], dataset['Fare'], dataset['Pclass'])\n"
      ],
      "execution_count": null,
      "outputs": [
        {
          "output_type": "execute_result",
          "data": {
            "text/plain": [
              "<matplotlib.axes._subplots.AxesSubplot at 0x7fcb1ead1320>"
            ]
          },
          "metadata": {
            "tags": []
          },
          "execution_count": 30
        },
        {
          "output_type": "display_data",
          "data": {
            "image/png": "[encoded data removed]",
            "text/plain": [
              "<Figure size 432x288 with 1 Axes>"
            ]
          },
          "metadata": {
            "tags": [],
            "needs_background": "light"
          }
        }
      ]
    },
    {
      "cell_type": "code",
      "metadata": {
        "id": "C7Ebw6OWsdmr"
      },
      "source": [
        "# Como la tasa es una variable numérica con una distribución sesgada por los valores ceros, usamos la transformación\n",
        "# de BOX COX para buscar aproximarla a una distribución normal. Ese procedimiento entrega datos normalizados\n",
        "# a los modelos lineales, que tienden a responder mejor con la entrada asi.\n",
        "\n",
        "\n",
        "\n",
        "from scipy.stats import boxcox #importando libreria estadistica\n",
        "dataset['Fare'] = boxcox(dataset['Fare'] + 1)[0]\n"
      ],
      "execution_count": null,
      "outputs": []
    },
    {
      "cell_type": "code",
      "metadata": {
        "colab": {
          "base_uri": "https://localhost:8080/",
          "height": 296
        },
        "id": "F1Hcj_FVs9db",
        "outputId": "2d06f115-58a6-4386-9fe3-35f816f5bf06"
      },
      "source": [
        "# El gráfico muestra una nueva distribución de la columna 'Fare'.\n",
        "sns.distplot(dataset['Fare'])\n"
      ],
      "execution_count": null,
      "outputs": [
        {
          "output_type": "execute_result",
          "data": {
            "text/plain": [
              "<matplotlib.axes._subplots.AxesSubplot at 0x7fcb1e9c16a0>"
            ]
          },
          "metadata": {
            "tags": []
          },
          "execution_count": 32
        },
        {
          "output_type": "display_data",
          "data": {
            "image/png": "[encoded data removed]",
            "text/plain": [
              "<Figure size 432x288 with 1 Axes>"
            ]
          },
          "metadata": {
            "tags": [],
            "needs_background": "light"
          }
        }
      ]
    },
    {
      "cell_type": "code",
      "metadata": {
        "id": "Re1pKTVvugmD"
      },
      "source": [
        "# Ahora que las features fueron seleccionadas, podemos empezar a trabajar en el modelo.\n",
        "# El primer paso es separar X (los vectores de entrada) de y (los valores de salída)\n",
        "\n",
        "X = dataset.loc[: , dataset.columns != 'Survived']\n",
        "y = dataset['Survived']\n"
      ],
      "execution_count": null,
      "outputs": []
    },
    {
      "cell_type": "code",
      "metadata": {
        "colab": {
          "base_uri": "https://localhost:8080/"
        },
        "id": "osIR_tndvD-B",
        "outputId": "0c5f6d07-cbeb-44fb-8695-96a5acb3566f"
      },
      "source": [
        "# Para que las variábles categóricas sean aplicables a los modelos matemáticos, vamos a crear 'dummy variables'.\n",
        "# Una categoria con 'n' possíbles valores se torna un conjunto de 'n-1' variábles binárias, indicando\n",
        "# la pertenencia de el item a àquella categoria o no. poner en binario\n",
        "\n",
        "X = pd.get_dummies(X)\n",
        "X.shape\n"
      ],
      "execution_count": null,
      "outputs": [
        {
          "output_type": "execute_result",
          "data": {
            "text/plain": [
              "(889, 16)"
            ]
          },
          "metadata": {
            "tags": []
          },
          "execution_count": 34
        }
      ]
    },
    {
      "cell_type": "code",
      "metadata": {
        "id": "MRXW8s7WxMF-"
      },
      "source": [
        "# El MinMaxScaler transformará los valores de entrada, haciendo que todos varien dentro del mismo intervalo\n",
        "# El intervalo no fue especificado, entonces será aplicado el valor padron - de 0 a 1. Una conversión es proporcional.\n",
        "\n",
        "from sklearn.preprocessing import MinMaxScaler #importando libreria de transformación\n",
        "X = MinMaxScaler().fit_transform(X)\n"
      ],
      "execution_count": null,
      "outputs": []
    },
    {
      "cell_type": "code",
      "metadata": {
        "id": "6cgQZrECzYBw"
      },
      "source": [
        "# Vamos a generar polinômios de grado 2 a partir de los datos de entrada, para pasar al modelo combinaciones de esos datos.\n",
        "# Esas combinaciones pueden eventualmente evidenciar relaciones entre las features que tienen impacto en la salída.\n",
        "# Para cada par de features (x, y), teremos como saída (x, y, x^2, x*y, y^2)\n",
        "\n",
        "from sklearn.preprocessing import PolynomialFeatures\n",
        "\n",
        "polynomial = PolynomialFeatures(degree=2)\n",
        "polynomial.fit(X)\n",
        "X = polynomial.transform(X)\n"
      ],
      "execution_count": null,
      "outputs": []
    },
    {
      "cell_type": "code",
      "metadata": {
        "colab": {
          "base_uri": "https://localhost:8080/"
        },
        "id": "pjqvW9L2z2iN",
        "outputId": "8bcc3d15-4869-4c6d-e038-23a837dfb8ed"
      },
      "source": [
        "X.shape"
      ],
      "execution_count": null,
      "outputs": [
        {
          "output_type": "execute_result",
          "data": {
            "text/plain": [
              "(889, 153)"
            ]
          },
          "metadata": {
            "tags": []
          },
          "execution_count": 37
        }
      ]
    },
    {
      "cell_type": "code",
      "metadata": {
        "id": "1mWcWE-E0RAL"
      },
      "source": [
        "# Vamos a importar los clasificadores que seran usados.\n",
        "# Para ese ejercício, vamos a comparar dos modelos. Uno de ellos es el Perceptron simple (recta de separación), \n",
        "# el otro es una regresión logística (sigmóide con una probabilidad de una clase).\n",
        "from sklearn.linear_model import Perceptron\n",
        "from sklearn.linear_model import LogisticRegression\n"
      ],
      "execution_count": null,
      "outputs": []
    },
    {
      "cell_type": "code",
      "metadata": {
        "colab": {
          "base_uri": "https://localhost:8080/"
        },
        "id": "KWo1S3JA33oN",
        "outputId": "cb60fa10-83c6-4bcd-e25e-1d32d8f45443"
      },
      "source": [
        "# Usamos ahora una regresión logística para seleccionar cuál es el  mayor conjunto de features necesário para\n",
        "# el modelo. Como ese es un problema de classificación, seleccionaremos las features que tienen el mejor score chi-quadrado.\n",
        "# (que es un índice de correspondencia de variânza en la expectativa y en la distribución de los datos). \n",
        "#Un score mayor significa mayor chance de nuevos datos sigan la misma distribución, llevando a un E_out menor.\n",
        "\n",
        "from sklearn.feature_selection import SelectKBest\n",
        "from sklearn.feature_selection import chi2\n",
        "\n",
        "lr_test = LogisticRegression()\n",
        "best_score = 0\n",
        "ideal_n = 0\n",
        "from sklearn.feature_selection import SelectKBest\n",
        "from sklearn.feature_selection import chi2\n",
        "\n",
        "lr_test = LogisticRegression()\n",
        "best_score = 0\n",
        "ideal_n = 0\n",
        "\n",
        "# Entre 1 y 190 features, ordenadas de la 'mejor' para la 'peor' (según el chi-quadrado), \n",
        "# Cuál es el número de features que dá el mejor resultado de validación? Con cual score?\n",
        "for i in range(1, 154):\n",
        "    k_best = SelectKBest(score_func=chi2, k=i)\n",
        "    k_best.fit(X, y)\n",
        "    \n",
        "    test_X = k_best.transform(X)\n",
        "    lr_test.fit(test_X, y)\n",
        "    score = lr_test.score(test_X, y)\n",
        "    print(f'Score: {score} para {i} features')\n",
        "    \n",
        "    if score > best_score:\n",
        "        best_score = score\n",
        "        ideal_n = i\n",
        "        \n",
        "print(f'Mejor resultado: {best_score} para {ideal_n} features')\n"
      ],
      "execution_count": null,
      "outputs": [
        {
          "output_type": "stream",
          "text": [
            "Score: 0.7862767154105736 para 1 features\n",
            "Score: 0.7862767154105736 para 2 features\n",
            "Score: 0.7862767154105736 para 3 features\n",
            "Score: 0.7862767154105736 para 4 features\n",
            "Score: 0.7862767154105736 para 5 features\n",
            "Score: 0.7862767154105736 para 6 features\n",
            "Score: 0.7862767154105736 para 7 features\n",
            "Score: 0.7862767154105736 para 8 features\n",
            "Score: 0.7874015748031497 para 9 features\n",
            "Score: 0.7829021372328459 para 10 features\n",
            "Score: 0.7952755905511811 para 11 features\n",
            "Score: 0.7952755905511811 para 12 features\n",
            "Score: 0.7952755905511811 para 13 features\n",
            "Score: 0.7952755905511811 para 14 features\n",
            "Score: 0.7952755905511811 para 15 features\n",
            "Score: 0.7952755905511811 para 16 features\n",
            "Score: 0.7952755905511811 para 17 features\n",
            "Score: 0.7952755905511811 para 18 features\n",
            "Score: 0.7952755905511811 para 19 features\n",
            "Score: 0.7952755905511811 para 20 features\n",
            "Score: 0.7952755905511811 para 21 features\n",
            "Score: 0.7952755905511811 para 22 features\n",
            "Score: 0.7952755905511811 para 23 features\n",
            "Score: 0.7952755905511811 para 24 features\n",
            "Score: 0.7952755905511811 para 25 features\n",
            "Score: 0.7952755905511811 para 26 features\n",
            "Score: 0.7952755905511811 para 27 features\n",
            "Score: 0.7952755905511811 para 28 features\n",
            "Score: 0.7952755905511811 para 29 features\n",
            "Score: 0.7952755905511811 para 30 features\n",
            "Score: 0.7952755905511811 para 31 features\n",
            "Score: 0.7975253093363329 para 32 features\n",
            "Score: 0.7997750281214848 para 33 features\n",
            "Score: 0.8053993250843644 para 34 features\n",
            "Score: 0.8233970753655793 para 35 features\n",
            "Score: 0.8222722159730034 para 36 features\n",
            "Score: 0.8222722159730034 para 37 features\n",
            "Score: 0.8211473565804275 para 38 features\n",
            "Score: 0.8222722159730034 para 39 features\n",
            "Score: 0.8301462317210349 para 40 features\n",
            "Score: 0.8301462317210349 para 41 features\n",
            "Score: 0.8278965129358831 para 42 features\n",
            "Score: 0.8278965129358831 para 43 features\n",
            "Score: 0.8278965129358831 para 44 features\n",
            "Score: 0.8278965129358831 para 45 features\n",
            "Score: 0.8278965129358831 para 46 features\n",
            "Score: 0.8278965129358831 para 47 features\n",
            "Score: 0.8301462317210349 para 48 features\n",
            "Score: 0.8301462317210349 para 49 features\n",
            "Score: 0.8301462317210349 para 50 features\n",
            "Score: 0.8323959505061868 para 51 features\n",
            "Score: 0.8312710911136107 para 52 features\n",
            "Score: 0.8301462317210349 para 53 features\n",
            "Score: 0.8267716535433071 para 54 features\n",
            "Score: 0.8312710911136107 para 55 features\n",
            "Score: 0.8346456692913385 para 56 features\n",
            "Score: 0.8346456692913385 para 57 features\n",
            "Score: 0.8346456692913385 para 58 features\n",
            "Score: 0.8346456692913385 para 59 features\n",
            "Score: 0.8357705286839145 para 60 features\n",
            "Score: 0.8357705286839145 para 61 features\n",
            "Score: 0.8368953880764904 para 62 features\n",
            "Score: 0.8368953880764904 para 63 features\n",
            "Score: 0.8368953880764904 para 64 features\n",
            "Score: 0.8357705286839145 para 65 features\n",
            "Score: 0.8301462317210349 para 66 features\n",
            "Score: 0.8301462317210349 para 67 features\n",
            "Score: 0.8346456692913385 para 68 features\n",
            "Score: 0.8346456692913385 para 69 features\n",
            "Score: 0.8357705286839145 para 70 features\n",
            "Score: 0.8357705286839145 para 71 features\n",
            "Score: 0.8357705286839145 para 72 features\n",
            "Score: 0.8357705286839145 para 73 features\n",
            "Score: 0.8357705286839145 para 74 features\n",
            "Score: 0.8357705286839145 para 75 features\n",
            "Score: 0.8346456692913385 para 76 features\n",
            "Score: 0.8346456692913385 para 77 features\n",
            "Score: 0.8413948256467941 para 78 features\n",
            "Score: 0.8402699662542182 para 79 features\n",
            "Score: 0.8402699662542182 para 80 features\n",
            "Score: 0.8413948256467941 para 81 features\n",
            "Score: 0.84251968503937 para 82 features\n",
            "Score: 0.8447694038245219 para 83 features\n",
            "Score: 0.8447694038245219 para 84 features\n",
            "Score: 0.8447694038245219 para 85 features\n",
            "Score: 0.8447694038245219 para 86 features\n",
            "Score: 0.8447694038245219 para 87 features\n",
            "Score: 0.8447694038245219 para 88 features\n",
            "Score: 0.8447694038245219 para 89 features\n",
            "Score: 0.8447694038245219 para 90 features\n",
            "Score: 0.8447694038245219 para 91 features\n",
            "Score: 0.8447694038245219 para 92 features\n",
            "Score: 0.8447694038245219 para 93 features\n",
            "Score: 0.8447694038245219 para 94 features\n",
            "Score: 0.8447694038245219 para 95 features\n",
            "Score: 0.843644544431946 para 96 features\n",
            "Score: 0.843644544431946 para 97 features\n",
            "Score: 0.843644544431946 para 98 features\n",
            "Score: 0.843644544431946 para 99 features\n",
            "Score: 0.843644544431946 para 100 features\n",
            "Score: 0.8447694038245219 para 101 features\n",
            "Score: 0.843644544431946 para 102 features\n",
            "Score: 0.8447694038245219 para 103 features\n",
            "Score: 0.8447694038245219 para 104 features\n",
            "Score: 0.8447694038245219 para 105 features\n",
            "Score: 0.8447694038245219 para 106 features\n",
            "Score: 0.8447694038245219 para 107 features\n",
            "Score: 0.8447694038245219 para 108 features\n",
            "Score: 0.8447694038245219 para 109 features\n",
            "Score: 0.84251968503937 para 110 features\n",
            "Score: 0.84251968503937 para 111 features\n",
            "Score: 0.84251968503937 para 112 features\n",
            "Score: 0.8413948256467941 para 113 features\n",
            "Score: 0.8413948256467941 para 114 features\n",
            "Score: 0.8413948256467941 para 115 features\n",
            "Score: 0.8413948256467941 para 116 features\n",
            "Score: 0.8413948256467941 para 117 features\n",
            "Score: 0.8413948256467941 para 118 features\n",
            "Score: 0.84251968503937 para 119 features\n",
            "Score: 0.84251968503937 para 120 features\n",
            "Score: 0.84251968503937 para 121 features\n",
            "Score: 0.84251968503937 para 122 features\n",
            "Score: 0.843644544431946 para 123 features\n",
            "Score: 0.843644544431946 para 124 features\n",
            "Score: 0.843644544431946 para 125 features\n",
            "Score: 0.843644544431946 para 126 features\n",
            "Score: 0.843644544431946 para 127 features\n",
            "Score: 0.8458942632170978 para 128 features\n",
            "Score: 0.8458942632170978 para 129 features\n",
            "Score: 0.8458942632170978 para 130 features\n",
            "Score: 0.8458942632170978 para 131 features\n",
            "Score: 0.8458942632170978 para 132 features\n",
            "Score: 0.8458942632170978 para 133 features\n",
            "Score: 0.8458942632170978 para 134 features\n",
            "Score: 0.8458942632170978 para 135 features\n",
            "Score: 0.8458942632170978 para 136 features\n",
            "Score: 0.8458942632170978 para 137 features\n",
            "Score: 0.8458942632170978 para 138 features\n",
            "Score: 0.8458942632170978 para 139 features\n",
            "Score: 0.8458942632170978 para 140 features\n",
            "Score: 0.8458942632170978 para 141 features\n",
            "Score: 0.8458942632170978 para 142 features\n",
            "Score: 0.8458942632170978 para 143 features\n",
            "Score: 0.8458942632170978 para 144 features\n",
            "Score: 0.8458942632170978 para 145 features\n",
            "Score: 0.8458942632170978 para 146 features\n",
            "Score: 0.8458942632170978 para 147 features\n",
            "Score: 0.8458942632170978 para 148 features\n",
            "Score: 0.8458942632170978 para 149 features\n",
            "Score: 0.8458942632170978 para 150 features\n",
            "Score: 0.8458942632170978 para 151 features\n",
            "Score: 0.8458942632170978 para 152 features\n",
            "Score: 0.8458942632170978 para 153 features\n",
            "Mejor resultado: 0.8458942632170978 para 128 features\n"
          ],
          "name": "stdout"
        }
      ]
    },
    {
      "cell_type": "code",
      "metadata": {
        "id": "bJ8xD2mE5Wky"
      },
      "source": [
        "# Podemos ver que muchas features (probablemente de las creadas con los polinômios) son irrelevantes para el modelo!\n",
        "# Seleccionaremos solamente las mejores features en X\n",
        "\n",
        "k_best = SelectKBest(score_func=chi2, k=ideal_n)\n",
        "k_best.fit(X, y)\n",
        "X = k_best.transform(X)\n"
      ],
      "execution_count": null,
      "outputs": []
    },
    {
      "cell_type": "code",
      "metadata": {
        "id": "rMUJ_yZV56qQ"
      },
      "source": [
        "# Creamos las instâncias para cada clasificador\n",
        "\n",
        "perceptron = Perceptron()\n",
        "logistic_regression = LogisticRegression()\n"
      ],
      "execution_count": null,
      "outputs": []
    },
    {
      "cell_type": "code",
      "metadata": {
        "colab": {
          "base_uri": "https://localhost:8080/"
        },
        "id": "63rG9lZa6FWb",
        "outputId": "6b310c4b-4945-4a12-d066-d28763fdf8e2"
      },
      "source": [
        "# el método fit() es usado para entrenar los modelos con los valores de entrenamiento\n",
        "\n",
        "perceptron.fit(X, y)\n",
        "logistic_regression.fit(X, y)\n"
      ],
      "execution_count": null,
      "outputs": [
        {
          "output_type": "execute_result",
          "data": {
            "text/plain": [
              "LogisticRegression(C=1.0, class_weight=None, dual=False, fit_intercept=True,\n",
              "                   intercept_scaling=1, l1_ratio=None, max_iter=100,\n",
              "                   multi_class='auto', n_jobs=None, penalty='l2',\n",
              "                   random_state=None, solver='lbfgs', tol=0.0001, verbose=0,\n",
              "                   warm_start=False)"
            ]
          },
          "metadata": {
            "tags": []
          },
          "execution_count": 49
        }
      ]
    },
    {
      "cell_type": "code",
      "metadata": {
        "colab": {
          "base_uri": "https://localhost:8080/"
        },
        "id": "buuL_7a465iV",
        "outputId": "288ad6b0-0a7a-4dd5-9802-812644210561"
      },
      "source": [
        "# los scores nos muestran como los modelos se salíeron en la validación de los datos.\n",
        "# A partir de los scores de entrenamiento, podemos calcular o E_in y crear expectativas sobre E_out.\n",
        "\n",
        "print(f'O score do Perceptron é {perceptron.score(X, y)}')\n",
        "print(f'O score do LogReg é {logistic_regression.score(X, y)}')\n"
      ],
      "execution_count": null,
      "outputs": [
        {
          "output_type": "stream",
          "text": [
            "O score do Perceptron é 0.6816647919010124\n",
            "O score do LogReg é 0.8458942632170978\n"
          ],
          "name": "stdout"
        }
      ]
    },
    {
      "cell_type": "code",
      "metadata": {
        "id": "CZ5Z-C1r8dFF"
      },
      "source": [
        "# La función learning_curve retorna una matriz con los resultados del cálculo de la Curva de aprendizaje de un algoritmo. \n",
        "# Los parámetro necesários son:\n",
        "# - Un estimador para ser entrenado\n",
        "# - Las entradas (X) de entrenamiento\n",
        "# - Las salidas (y) de entrenamiento\n",
        "# - El número - opcional - de puntos para validación del entrenamiento.\n",
        "\n",
        "from sklearn.model_selection import learning_curve\n",
        "\n",
        "# La función plot_learning_curve dibuja un gráfico con los datos de la matriz.\n",
        "def plot_learning_curve(estimator, X, y):\n",
        "    \n",
        "    # El gráfico es inicializado con las características de la matriz.\n",
        "    plt.figure()\n",
        "    plt.title(\"Curva de Aprendizaje\")\n",
        "    plt.xlabel('Puntos do entrenamiento')\n",
        "    plt.ylabel('Desempeno')\n",
        "    plt.grid()\n",
        "    \n",
        "    # Calculamos los valores de la curva de aprendizaje, incrementando los datos de 10 en 10 %\n",
        "    sizes = [0.1, 0.2, 0.3, 0.4, 0.5, 0.6, 0.7, 0.8, 0.9, 1]\n",
        "    points, score_in, score_out = learning_curve(estimator, X, y, train_sizes=sizes)\n",
        "    \n",
        "    # Sacamos la media y el desvío padrón de cada secuencia de testes. \n",
        "    # Por padrón es realizada la validación cruzada en 3 conjuntos de datos.\n",
        "    mean_in = np.mean(score_in, axis=1)\n",
        "    std_in = np.std(score_in, axis=1)\n",
        "    mean_out = np.mean(score_out, axis=1)\n",
        "    std_out = np.std(score_out, axis=1)\n",
        "    \n",
        "    # El desempeño de entrenamiento queda en rojo y el de validación en verde\n",
        "    plt.plot(points, mean_in, 'o-', color='red', label='Entrenamiento')\n",
        "    plt.plot(points, mean_out, 'o-', color='green', label='Teste')\n",
        "    \n",
        "    # Los desvios quedan alrededor de las lineas para indicar la variación en el aprendizaje\n",
        "    plt.fill_between(points, mean_in - std_in,\n",
        "                     mean_in + std_in, color='red', alpha=0.1)\n",
        "    plt.fill_between(points, mean_out - std_out,\n",
        "                     mean_out + std_out, color='green', alpha=0.1)\n",
        "    \n",
        "    plt.legend()\n",
        "    return plt"
      ],
      "execution_count": null,
      "outputs": []
    },
    {
      "cell_type": "code",
      "metadata": {
        "colab": {
          "base_uri": "https://localhost:8080/",
          "height": 312
        },
        "id": "jK1NL5kV8qGK",
        "outputId": "5da8de58-3fe4-4b5d-c543-ff13d884db8b"
      },
      "source": [
        "#muestra la curva de aprendizaje \n",
        "plot_learning_curve(perceptron,X,y)"
      ],
      "execution_count": null,
      "outputs": [
        {
          "output_type": "execute_result",
          "data": {
            "text/plain": [
              "<module 'matplotlib.pyplot' from '/usr/local/lib/python3.6/dist-packages/matplotlib/pyplot.py'>"
            ]
          },
          "metadata": {
            "tags": []
          },
          "execution_count": 52
        },
        {
          "output_type": "display_data",
          "data": {
            "image/png": "[encoded data removed]",
            "text/plain": [
              "<Figure size 432x288 with 1 Axes>"
            ]
          },
          "metadata": {
            "tags": [],
            "needs_background": "light"
          }
        }
      ]
    },
    {
      "cell_type": "code",
      "metadata": {
        "colab": {
          "base_uri": "https://localhost:8080/",
          "height": 312
        },
        "id": "r_7L_KL19kk-",
        "outputId": "94e48bb1-c583-4423-f0df-8389d2185e83"
      },
      "source": [
        "plot_learning_curve(logistic_regression, X, y)\n"
      ],
      "execution_count": null,
      "outputs": [
        {
          "output_type": "execute_result",
          "data": {
            "text/plain": [
              "<module 'matplotlib.pyplot' from '/usr/local/lib/python3.6/dist-packages/matplotlib/pyplot.py'>"
            ]
          },
          "metadata": {
            "tags": []
          },
          "execution_count": 53
        },
        {
          "output_type": "display_data",
          "data": {
            "image/png": "[encoded data removed]",
            "text/plain": [
              "<Figure size 432x288 with 1 Axes>"
            ]
          },
          "metadata": {
            "tags": [],
            "needs_background": "light"
          }
        }
      ]
    }
  ]
}